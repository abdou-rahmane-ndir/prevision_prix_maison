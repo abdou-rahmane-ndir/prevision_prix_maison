{
 "cells": [
  {
   "cell_type": "code",
   "execution_count": 1,
   "id": "d186c363",
   "metadata": {},
   "outputs": [
    {
     "name": "stdout",
     "output_type": "stream",
     "text": [
      "[1, 2, 3, 4, 5, 6, 7, 8, 9, 10]\n"
     ]
    }
   ],
   "source": [
    "#Definir une liste allant de 1 a 10 \n",
    "import numpy as np\n",
    "lst = list(np.arange(1,11,1))\n",
    "print(lst)"
   ]
  },
  {
   "cell_type": "code",
   "execution_count": 2,
   "id": "6468dcf2",
   "metadata": {},
   "outputs": [
    {
     "name": "stdout",
     "output_type": "stream",
     "text": [
      "[1, 2, 3, 4, 5, 6, 7, 8, 9, 10]\n"
     ]
    }
   ],
   "source": [
    "#Trier et afficher la liste \n",
    "lst.sort()\n",
    "print(lst)"
   ]
  },
  {
   "cell_type": "code",
   "execution_count": 3,
   "id": "1b40d29d",
   "metadata": {},
   "outputs": [
    {
     "name": "stdout",
     "output_type": "stream",
     "text": [
      "[1, 2, 3, 4, 5, 6, 7, 8, 9, 10, 11]\n"
     ]
    }
   ],
   "source": [
    "# Ajouter à la liste de l'element 11\n",
    "lst.append(11)\n",
    "print(lst)\n",
    "# phase 2 du programme python"
   ]
  },
  {
   "cell_type": "code",
   "execution_count": 4,
   "id": "8c98d9cf",
   "metadata": {},
   "outputs": [
    {
     "name": "stdout",
     "output_type": "stream",
     "text": [
      "[11, 10, 9, 8, 7, 6, 5, 4, 3, 2, 1]\n"
     ]
    }
   ],
   "source": [
    "#Renverser et afficher la liste \n",
    "lst.reverse()\n",
    "print(lst)"
   ]
  },
  {
   "cell_type": "code",
   "execution_count": 5,
   "id": "a7a53a7f",
   "metadata": {},
   "outputs": [
    {
     "name": "stdout",
     "output_type": "stream",
     "text": [
      "4\n"
     ]
    }
   ],
   "source": [
    "#Afficher l'element d'indice 7\n",
    "print(lst[7])"
   ]
  },
  {
   "cell_type": "code",
   "execution_count": 6,
   "id": "ea5efc5c",
   "metadata": {},
   "outputs": [
    {
     "name": "stdout",
     "output_type": "stream",
     "text": [
      "[11, 10, 9, 8, 7, 6, 5, 4, 3, 1]\n"
     ]
    }
   ],
   "source": [
    "#Enlever l'element 9 de la liste\n",
    "del lst[9]\n",
    "print(lst)"
   ]
  },
  {
   "cell_type": "code",
   "execution_count": 7,
   "id": "33fda3cd",
   "metadata": {},
   "outputs": [
    {
     "name": "stdout",
     "output_type": "stream",
     "text": [
      "[9]\n"
     ]
    }
   ],
   "source": [
    "#Afficher la sous titre du 2ieme et 3ieme indice\n",
    "print(lst[2:3])"
   ]
  },
  {
   "cell_type": "code",
   "execution_count": 8,
   "id": "c2be4997",
   "metadata": {},
   "outputs": [
    {
     "name": "stdout",
     "output_type": "stream",
     "text": [
      "[11, 10]\n"
     ]
    }
   ],
   "source": [
    "#Afficher la sous titre debut du 2eme indice\n",
    "print(lst[:2])"
   ]
  },
  {
   "cell_type": "code",
   "execution_count": 9,
   "id": "bfb1bb53",
   "metadata": {},
   "outputs": [
    {
     "name": "stdout",
     "output_type": "stream",
     "text": [
      "[9, 8, 7, 6, 5, 4, 3, 1]\n"
     ]
    }
   ],
   "source": [
    "#Afficher la sou-titre du 3e element\n",
    "print(lst[2:])"
   ]
  },
  {
   "cell_type": "code",
   "execution_count": 10,
   "id": "34a4adcb",
   "metadata": {},
   "outputs": [
    {
     "name": "stdout",
     "output_type": "stream",
     "text": [
      "{'janvier': 31, 'fevrier': 28, 'mars': 31, 'avril': 30, 'mai': 31, 'juin': 30}\n"
     ]
    }
   ],
   "source": [
    "#Cconstruire le dictionnaire des 6 premiers mois de l'année avec comme valeurs le nombre de jours respectif\n",
    "lst={ 'janvier' :31, 'fevrier' :28, 'mars' :31, 'avril' :30, 'mai' :31, 'juin' :30 }\n",
    "print(lst)"
   ]
  },
  {
   "cell_type": "code",
   "execution_count": 11,
   "id": "780c48cb",
   "metadata": {},
   "outputs": [
    {
     "name": "stdout",
     "output_type": "stream",
     "text": [
      "dict_keys(['janvier', 'fevrier', 'mars', 'avril', 'mai', 'juin'])\n"
     ]
    }
   ],
   "source": [
    "#Renvoyer la liste des mois\n",
    "print(lst.keys())"
   ]
  },
  {
   "cell_type": "code",
   "execution_count": 12,
   "id": "593e9b62",
   "metadata": {},
   "outputs": [
    {
     "name": "stdout",
     "output_type": "stream",
     "text": [
      "dict_values([31, 28, 31, 30, 31, 30])\n"
     ]
    }
   ],
   "source": [
    "#Renvoyer la liste des jours \n",
    "print(lst.values())"
   ]
  },
  {
   "cell_type": "code",
   "execution_count": 13,
   "id": "fb5f473c",
   "metadata": {},
   "outputs": [
    {
     "name": "stdout",
     "output_type": "stream",
     "text": [
      "{'janvier': 31, 'fevrier': 28, 'mars': 31, 'avril': 30, 'mai': 31, 'juin': 30, 'juillet': 31}\n"
     ]
    }
   ],
   "source": [
    "#Ajouter la cle du mois de juillet\n",
    "lst={ 'janvier' :31, 'fevrier' :28, 'mars' :31, 'avril' :30, 'mai' :31, 'juin' :30 }\n",
    "lst['juillet'] = 31\n",
    "print(lst)"
   ]
  },
  {
   "cell_type": "code",
   "execution_count": null,
   "id": "cc812739",
   "metadata": {},
   "outputs": [],
   "source": []
  }
 ],
 "metadata": {
  "kernelspec": {
   "display_name": "Python 3 (ipykernel)",
   "language": "python",
   "name": "python3"
  },
  "language_info": {
   "codemirror_mode": {
    "name": "ipython",
    "version": 3
   },
   "file_extension": ".py",
   "mimetype": "text/x-python",
   "name": "python",
   "nbconvert_exporter": "python",
   "pygments_lexer": "ipython3",
   "version": "3.9.13"
  }
 },
 "nbformat": 4,
 "nbformat_minor": 5
}
